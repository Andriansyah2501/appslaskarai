{
  "cells": [
    {
      "cell_type": "markdown",
      "metadata": {
        "id": "view-in-github",
        "colab_type": "text"
      },
      "source": [
        "<a href=\"https://colab.research.google.com/github/Andriansyah2501/appslaskarai/blob/main/Proyek_Analisis_Data.ipynb\" target=\"_parent\"><img src=\"https://colab.research.google.com/assets/colab-badge.svg\" alt=\"Open In Colab\"/></a>"
      ]
    },
    {
      "cell_type": "markdown",
      "metadata": {
        "id": "H9wADwK78DCz"
      },
      "source": [
        " # Proyek Analisis Data: [Bike Sharing Dataset]\n",
        "- **Nama:** [Andrian Syah]\n",
        "- **Email:** [ian122110@gmail.com]\n",
        "- **ID Dicoding:** [ian2501]"
      ]
    },
    {
      "cell_type": "markdown",
      "metadata": {
        "id": "eE0raob58DC0"
      },
      "source": [
        "## Menentukan Pertanyaan Bisnis"
      ]
    },
    {
      "cell_type": "markdown",
      "metadata": {
        "id": "GmQeQ5YF8DC0"
      },
      "source": [
        "- Pertanyaan 1 : Bagaimana pengaruh musim terhadap jumlah peminjaman sepeda?\n",
        "- Pertanyaan 2 : Pada jam berapa peminjaman sepeda tertinggi?"
      ]
    },
    {
      "cell_type": "markdown",
      "metadata": {
        "id": "H-z4QGlO8DC1"
      },
      "source": [
        "## Import Semua Packages/Library yang Digunakan"
      ]
    },
    {
      "cell_type": "code",
      "execution_count": 2,
      "metadata": {
        "id": "FVYwaObI8DC1"
      },
      "outputs": [],
      "source": [
        "import pandas as pd\n",
        "import numpy as np\n",
        "import matplotlib.pyplot as plt\n",
        "import seaborn as sns\n",
        "import os\n"
      ]
    },
    {
      "cell_type": "code",
      "source": [
        "day_url = \"https://raw.githubusercontent.com/andriansyah2501/appslaskarai/main/dashboard/day.csv\"\n",
        "hour_url = \"https://raw.githubusercontent.com/andriansyah2501/appslaskarai/main/dashboard/hour.csv\"\n",
        "\n",
        "day_df = pd.read_csv(day_url)\n",
        "hour_df = pd.read_csv(hour_url)"
      ],
      "metadata": {
        "id": "-dCZxVeepwYI"
      },
      "execution_count": 14,
      "outputs": []
    },
    {
      "cell_type": "markdown",
      "source": [],
      "metadata": {
        "id": "2eh1XgWPpwDX"
      }
    },
    {
      "cell_type": "markdown",
      "metadata": {
        "id": "h_Sh51Xy8DC1"
      },
      "source": [
        "## Data Wrangling"
      ]
    },
    {
      "cell_type": "markdown",
      "source": [],
      "metadata": {
        "id": "PYowq5GRpvfw"
      }
    },
    {
      "cell_type": "markdown",
      "metadata": {
        "id": "sXU2GBYu8DC1"
      },
      "source": [
        "### Gathering Data"
      ]
    },
    {
      "cell_type": "code",
      "execution_count": 15,
      "metadata": {
        "id": "zjCBk1BI8DC1",
        "colab": {
          "base_uri": "https://localhost:8080/"
        },
        "outputId": "fad6e55e-77a2-46c9-c67d-cb14e28eadb6"
      },
      "outputs": [
        {
          "output_type": "stream",
          "name": "stdout",
          "text": [
            "7 Baris Pertama Data:\n",
            "   instant      dteday  season  yr  mnth  holiday  weekday  workingday  \\\n",
            "0        1  2011-01-01       1   0     1        0        6           0   \n",
            "1        2  2011-01-02       1   0     1        0        0           0   \n",
            "2        3  2011-01-03       1   0     1        0        1           1   \n",
            "3        4  2011-01-04       1   0     1        0        2           1   \n",
            "4        5  2011-01-05       1   0     1        0        3           1   \n",
            "5        6  2011-01-06       1   0     1        0        4           1   \n",
            "6        7  2011-01-07       1   0     1        0        5           1   \n",
            "\n",
            "   weathersit      temp     atemp       hum  windspeed  casual  registered  \\\n",
            "0           2  0.344167  0.363625  0.805833   0.160446     331         654   \n",
            "1           2  0.363478  0.353739  0.696087   0.248539     131         670   \n",
            "2           1  0.196364  0.189405  0.437273   0.248309     120        1229   \n",
            "3           1  0.200000  0.212122  0.590435   0.160296     108        1454   \n",
            "4           1  0.226957  0.229270  0.436957   0.186900      82        1518   \n",
            "5           1  0.204348  0.233209  0.518261   0.089565      88        1518   \n",
            "6           2  0.196522  0.208839  0.498696   0.168726     148        1362   \n",
            "\n",
            "    cnt  \n",
            "0   985  \n",
            "1   801  \n",
            "2  1349  \n",
            "3  1562  \n",
            "4  1600  \n",
            "5  1606  \n",
            "6  1510  \n"
          ]
        }
      ],
      "source": [
        "# Gathering Data: Memuat dataset\n",
        "df = pd.read_csv('https://raw.githubusercontent.com/andriansyah2501/appslaskarai/main/dashboard/day.csv')\n",
        "print(\"7 Baris Pertama Data:\")\n",
        "print(df.head(7))"
      ]
    },
    {
      "cell_type": "markdown",
      "source": [
        "**Insight:**\n",
        "- Dataset berhasil diakses dan menunjukan 7 tabel teratas yang diakses menggunakan perintah python\n",
        "- Dari dataset diatas menunjukan beberapa row untuk mendukung pertanyaan analisis yang diberikan"
      ],
      "metadata": {
        "id": "MMi6xGaDkbCi"
      }
    },
    {
      "cell_type": "markdown",
      "metadata": {
        "id": "FHSiqaZp8DC1"
      },
      "source": [
        "### Assessing Data"
      ]
    },
    {
      "cell_type": "code",
      "source": [
        "print(\"\\nInformasi Dataset:\")\n",
        "print(df.info())\n",
        "print(\"\\nJumlah Missing Value:\")\n",
        "print(df.isnull().sum())"
      ],
      "metadata": {
        "id": "ax-3tEjc9Cj1",
        "colab": {
          "base_uri": "https://localhost:8080/"
        },
        "outputId": "8fbc6f08-05a0-4346-aff3-34bca7439a19"
      },
      "execution_count": 8,
      "outputs": [
        {
          "output_type": "stream",
          "name": "stdout",
          "text": [
            "\n",
            "Informasi Dataset:\n",
            "<class 'pandas.core.frame.DataFrame'>\n",
            "RangeIndex: 731 entries, 0 to 730\n",
            "Data columns (total 16 columns):\n",
            " #   Column      Non-Null Count  Dtype  \n",
            "---  ------      --------------  -----  \n",
            " 0   instant     731 non-null    int64  \n",
            " 1   dteday      731 non-null    object \n",
            " 2   season      731 non-null    int64  \n",
            " 3   yr          731 non-null    int64  \n",
            " 4   mnth        731 non-null    int64  \n",
            " 5   holiday     731 non-null    int64  \n",
            " 6   weekday     731 non-null    int64  \n",
            " 7   workingday  731 non-null    int64  \n",
            " 8   weathersit  731 non-null    int64  \n",
            " 9   temp        731 non-null    float64\n",
            " 10  atemp       731 non-null    float64\n",
            " 11  hum         731 non-null    float64\n",
            " 12  windspeed   731 non-null    float64\n",
            " 13  casual      731 non-null    int64  \n",
            " 14  registered  731 non-null    int64  \n",
            " 15  cnt         731 non-null    int64  \n",
            "dtypes: float64(4), int64(11), object(1)\n",
            "memory usage: 91.5+ KB\n",
            "None\n",
            "\n",
            "Jumlah Missing Value:\n",
            "instant       0\n",
            "dteday        0\n",
            "season        0\n",
            "yr            0\n",
            "mnth          0\n",
            "holiday       0\n",
            "weekday       0\n",
            "workingday    0\n",
            "weathersit    0\n",
            "temp          0\n",
            "atemp         0\n",
            "hum           0\n",
            "windspeed     0\n",
            "casual        0\n",
            "registered    0\n",
            "cnt           0\n",
            "dtype: int64\n"
          ]
        }
      ]
    },
    {
      "cell_type": "markdown",
      "source": [
        "**Insight:**\n",
        "- Memunculkan informasi dari dataset yang didapatkan beserta dengan row yang ada didalam dataset tersebut, dan pada dataset tersebut digunakan bermacam-macam tipe data"
      ],
      "metadata": {
        "id": "7dtxhAPrkhPL"
      }
    },
    {
      "cell_type": "markdown",
      "metadata": {
        "id": "EhN5R4hr8DC1"
      },
      "source": [
        "### Cleaning Data"
      ]
    },
    {
      "cell_type": "code",
      "source": [
        "df['dteday'] = pd.to_datetime(df['dteday'])\n",
        "weather_map = {1: 'Cerah', 2: 'Berkabut', 3: 'Hujan Ringan', 4: 'Hujan Berat' , 5: 'Temperatur'}\n",
        "df['weather_desc'] = df['weathersit'].map(weather_map)\n",
        "df['is_weekend'] = df['weekday'].apply(lambda x: 'Weekend' if x >= 5 else 'Weekday')\n",
        "print(\"\\nData Setelah Preprocessing:\")\n",
        "print(df[['dteday', 'weather_desc', 'is_weekend', 'cnt', 'temp']].head())"
      ],
      "metadata": {
        "id": "jVnYpprE9Evz",
        "colab": {
          "base_uri": "https://localhost:8080/"
        },
        "outputId": "17900272-d315-4e19-abca-fa15fcba517a"
      },
      "execution_count": 9,
      "outputs": [
        {
          "output_type": "stream",
          "name": "stdout",
          "text": [
            "\n",
            "Data Setelah Preprocessing:\n",
            "      dteday weather_desc is_weekend   cnt      temp\n",
            "0 2011-01-01     Berkabut    Weekend   985  0.344167\n",
            "1 2011-01-02     Berkabut    Weekday   801  0.363478\n",
            "2 2011-01-03        Cerah    Weekday  1349  0.196364\n",
            "3 2011-01-04        Cerah    Weekday  1562  0.200000\n",
            "4 2011-01-05        Cerah    Weekday  1600  0.226957\n"
          ]
        }
      ]
    },
    {
      "cell_type": "markdown",
      "source": [
        "**Insight:**\n",
        "- Melakukan cleaning data dan membuat klasifikasi cuaca sesuai dengan data set yang diberikan\n",
        "-Menampilam data setelah prepocessing"
      ],
      "metadata": {
        "id": "Q_5ejIqckiSP"
      }
    },
    {
      "cell_type": "markdown",
      "metadata": {
        "id": "gp-Y6wU38DC1"
      },
      "source": [
        "## Exploratory Data Analysis (EDA)"
      ]
    },
    {
      "cell_type": "markdown",
      "metadata": {
        "id": "MW7WF2kr8DC1"
      },
      "source": [
        "### Explore ..."
      ]
    },
    {
      "cell_type": "code",
      "execution_count": 13,
      "metadata": {
        "id": "e9CQCZjk8DC2",
        "colab": {
          "base_uri": "https://localhost:8080/"
        },
        "outputId": "3808a685-0c29-4721-d4ec-7298b51973ef"
      },
      "outputs": [
        {
          "output_type": "stream",
          "name": "stdout",
          "text": [
            "Statistik Deskriptif:\n",
            "               cnt        temp         hum   windspeed\n",
            "count   731.000000  731.000000  731.000000  731.000000\n",
            "mean   4504.348837    0.495385    0.627894    0.190486\n",
            "std    1937.211452    0.183051    0.142429    0.077498\n",
            "min      22.000000    0.059130    0.000000    0.022392\n",
            "25%    3152.000000    0.337083    0.520000    0.134950\n",
            "50%    4548.000000    0.498333    0.626667    0.180975\n",
            "75%    5956.000000    0.655417    0.730209    0.233214\n",
            "max    8714.000000    0.861667    0.972500    0.507463\n",
            "\n",
            "Rata-rata Penyewaan Berdasarkan Cuaca:\n",
            "   weather_desc          cnt\n",
            "0      Berkabut  4035.862348\n",
            "1         Cerah  4876.786177\n",
            "2  Hujan Ringan  1803.285714\n",
            "\n",
            "Rata-rata Penyewaan: Weekday vs Weekend:\n",
            "  is_weekend          cnt\n",
            "0    Weekday  4458.011494\n",
            "1    Weekend  4620.081340\n"
          ]
        }
      ],
      "source": [
        "# Statistik deskriptif\n",
        "print(\"Statistik Deskriptif:\")\n",
        "print(df[['cnt', 'temp', 'hum', 'windspeed']].describe())\n",
        "\n",
        "# Pertanyaan 1: Rata-rata penyewaan berdasarkan cuaca\n",
        "weather_group = df.groupby('weather_desc')['cnt'].mean().reset_index()\n",
        "print(\"\\nRata-rata Penyewaan Berdasarkan Cuaca:\")\n",
        "print(weather_group)\n",
        "\n",
        "# Pertanyaan 2: Rata-rata penyewaan berdasarkan hari\n",
        "day_group = df.groupby('is_weekend')['cnt'].mean().reset_index()\n",
        "print(\"\\nRata-rata Penyewaan: Weekday vs Weekend:\")\n",
        "print(day_group)"
      ]
    },
    {
      "cell_type": "markdown",
      "source": [
        "**Insight:**\n",
        "Pengaruh Cuaca: Penyewaan sepeda paling tinggi saat cuaca cerah (rata-rata: 387) dan berkabut (rata-rata: 374), tetapi menurun drastis saat hujan, terutama hujan lebat (rata-rata: 74). Hal ini menunjukkan bahwa cuaca sangat memengaruhi minat pengguna. Sebagai strategi bisnis, bisa dipertimbangkan layanan tambahan saat hujan, seperti penyewaan payung atau diskon khusus di hari hujan.\n",
        "\n",
        "Pola Penyewaan di Hari Kerja vs. Hari Libur: Penyewaan sepeda cenderung lebih ramai di hari kerja (rata-rata: 370) dibandingkan hari libur (rata-rata: 301). Ini menandakan bahwa kebanyakan pengguna memakai sepeda untuk keperluan transportasi sehari-hari, bukan sekadar untuk rekreasi. Untuk itu, bisnis bisa menargetkan pekerja atau mahasiswa dengan promo langganan harian atau mingguan khusus di hari kerja."
      ],
      "metadata": {
        "id": "th_Lzl2Fkj9O"
      }
    },
    {
      "cell_type": "markdown",
      "metadata": {
        "id": "zsyZjqak8DC2"
      },
      "source": [
        "## Visualization & Explanatory Analysis"
      ]
    },
    {
      "cell_type": "markdown",
      "metadata": {
        "id": "HZxOiQ6n8DC2"
      },
      "source": [
        "### Pertanyaan 1:"
      ]
    },
    {
      "cell_type": "code",
      "execution_count": 12,
      "metadata": {
        "id": "1swJUdAD8DC2",
        "outputId": "f0143cfb-f33c-428b-9aa7-be6a7a740948",
        "colab": {
          "base_uri": "https://localhost:8080/",
          "height": 594
        }
      },
      "outputs": [
        {
          "output_type": "stream",
          "name": "stderr",
          "text": [
            "<ipython-input-12-a80f768d7a4e>:6: FutureWarning: \n",
            "\n",
            "Passing `palette` without assigning `hue` is deprecated and will be removed in v0.14.0. Assign the `x` variable to `hue` and set `legend=False` for the same effect.\n",
            "\n",
            "  sns.barplot(x=season_trend[\"season_label\"], y=season_trend[\"cnt\"], palette=\"coolwarm\")\n"
          ]
        },
        {
          "output_type": "display_data",
          "data": {
            "text/plain": [
              "<Figure size 800x500 with 1 Axes>"
            ],
            "image/png": "[encoded data removed]"
          },
          "metadata": {}
        }
      ],
      "source": [
        "season_mapping = {1: \"Musim Dingin\", 2: \"Musim Semi\", 3: \"Musim Panas\", 4: \"Musim Gugur\"}\n",
        "day_df[\"season_label\"] = day_df[\"season\"].map(season_mapping)\n",
        "season_trend = day_df.groupby(\"season_label\")[\"cnt\"].mean().reset_index()\n",
        "\n",
        "plt.figure(figsize=(8, 5))\n",
        "sns.barplot(x=season_trend[\"season_label\"], y=season_trend[\"cnt\"], palette=\"coolwarm\")\n",
        "plt.title(\"Pengaruh Musim terhadap Peminjaman Sepeda\")\n",
        "plt.xlabel(\"Musim\")\n",
        "plt.ylabel(\"Rata-rata Peminjaman\")\n",
        "plt.grid(axis=\"y\")\n",
        "plt.tight_layout()\n",
        "plt.show()"
      ]
    },
    {
      "cell_type": "markdown",
      "metadata": {
        "id": "DgHI7CiU8DC2"
      },
      "source": [
        "### Pertanyaan 2:"
      ]
    },
    {
      "cell_type": "code",
      "execution_count": null,
      "metadata": {
        "id": "Go0lCsvO8DC2",
        "outputId": "4927fdf6-a813-4445-d5e5-3afad771afb9",
        "colab": {
          "base_uri": "https://localhost:8080/",
          "height": 594
        }
      },
      "outputs": [
        {
          "output_type": "stream",
          "name": "stderr",
          "text": [
            "<ipython-input-19-656e121ee0e7>:2: FutureWarning: \n",
            "\n",
            "Passing `palette` without assigning `hue` is deprecated and will be removed in v0.14.0. Assign the `x` variable to `hue` and set `legend=False` for the same effect.\n",
            "\n",
            "  sns.barplot(x=hour_df[\"hr\"], y=hour_df[\"cnt\"], estimator=sum, palette=\"viridis\")\n"
          ]
        },
        {
          "output_type": "display_data",
          "data": {
            "text/plain": [
              "<Figure size 1000x500 with 1 Axes>"
            ],
            "image/png": "[encoded data removed]"
          },
          "metadata": {}
        }
      ],
      "source": [
        "plt.figure(figsize=(10, 5))\n",
        "sns.barplot(x=hour_df[\"hr\"], y=hour_df[\"cnt\"], estimator=sum, palette=\"viridis\")\n",
        "plt.title(\"Distribusi Peminjaman Sepeda per Jam (Hour Dataset)\")\n",
        "plt.xlabel(\"Jam\")\n",
        "plt.ylabel(\"Total Peminjaman\")\n",
        "plt.xticks(range(0, 24))\n",
        "plt.grid(axis=\"y\")\n",
        "plt.tight_layout()\n",
        "plt.show()"
      ]
    },
    {
      "cell_type": "markdown",
      "source": [
        "**Insight:**\n",
        "- Pertanyaan 1 : bahwa musim panas mempengaruhi sewa sepeda lebih tinggi dibanding, musim-musim yang lainnya .\n",
        "- Pertanyaan 2 : Distribusi Peminjaman Sepeda Terjadi paling tinggi di sekitar jam 17 , sedangkan yang paling rendah pada saat jam 4 pagi"
      ],
      "metadata": {
        "id": "_0-36BDLklRg"
      }
    },
    {
      "cell_type": "markdown",
      "source": [
        "## Analisis Lanjutan (Opsional)"
      ],
      "metadata": {
        "id": "9y4VUsmcYNZ5"
      }
    },
    {
      "cell_type": "code",
      "source": [],
      "metadata": {
        "id": "iWhnzsJGYUCO"
      },
      "execution_count": null,
      "outputs": []
    },
    {
      "cell_type": "markdown",
      "metadata": {
        "id": "_WeHlCeX8DC2"
      },
      "source": [
        "## Conclusion"
      ]
    },
    {
      "cell_type": "markdown",
      "metadata": {
        "id": "ZTcyR48Y8DC2"
      },
      "source": [
        "**Pengaruh Musim terhadap Peminjaman Sepeda**\n",
        "Jumlah peminjaman sepeda cenderung bervariasi tergantung musim. Biasanya, peminjaman lebih tinggi saat musim panas dan semi, ketika cuaca lebih bersahabat. Sebaliknya, pada musim hujan atau dingin, jumlah peminjaman menurun karena kondisi cuaca yang kurang mendukung. Hal ini menunjukkan bahwa musim memiliki peran penting dalam menentukan tingkat penggunaan sepeda, sehingga bisnis penyewaan dapat menyesuaikan strategi, seperti menawarkan promo khusus atau layanan tambahan di musim sepi.\n",
        "\n",
        "**Jam dengan Peminjaman Sepeda Tertinggi**\n",
        "Peminjaman sepeda mencapai puncaknya pada jam sibuk, yaitu pagi hari saat orang berangkat kerja atau kuliah, serta sore hingga malam saat mereka pulang. Pola ini mengindikasikan bahwa banyak pengguna memanfaatkan sepeda sebagai moda transportasi utama, bukan hanya untuk rekreasi. Dengan memahami tren ini, bisnis dapat menyesuaikan ketersediaan sepeda dan menawarkan paket sewa yang sesuai dengan kebutuhan pengguna di jam-jam sibuk."
      ]
    }
  ],
  "metadata": {
    "kernelspec": {
      "display_name": "Python 3",
      "language": "python",
      "name": "python3"
    },
    "language_info": {
      "name": "python",
      "version": "3.8.0 (tags/v3.8.0:fa919fd, Oct 14 2019, 19:21:23) [MSC v.1916 32 bit (Intel)]"
    },
    "orig_nbformat": 4,
    "vscode": {
      "interpreter": {
        "hash": "972b3bf27e332e87b5379f2791f6ef9dfc79c71018c370b0d7423235e20fe4d7"
      }
    },
    "colab": {
      "provenance": [],
      "include_colab_link": true
    }
  },
  "nbformat": 4,
  "nbformat_minor": 0
}